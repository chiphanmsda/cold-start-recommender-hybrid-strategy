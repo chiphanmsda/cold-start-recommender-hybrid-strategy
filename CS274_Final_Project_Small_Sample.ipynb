{
  "cells": [
    {
      "cell_type": "markdown",
      "source": [
        "# Preprocess Data\n",
        "\n"
      ],
      "metadata": {
        "id": "APLsqSccoMVR"
      }
    },
    {
      "cell_type": "code",
      "source": [
        "# ===========================\n",
        "# 0. FILE UPLOAD FOR COLAB\n",
        "# ===========================\n",
        "from google.colab import files\n",
        "uploaded = files.upload()"
      ],
      "metadata": {
        "colab": {
          "base_uri": "https://localhost:8080/",
          "height": 73
        },
        "id": "gFXUKDFpoY3-",
        "outputId": "58ba4723-dc63-4e81-bca7-efe919a25fef"
      },
      "execution_count": 2,
      "outputs": [
        {
          "output_type": "display_data",
          "data": {
            "text/plain": [
              "<IPython.core.display.HTML object>"
            ],
            "text/html": [
              "\n",
              "     <input type=\"file\" id=\"files-2887877a-ff9e-437e-9504-eb3445b71d29\" name=\"files[]\" multiple disabled\n",
              "        style=\"border:none\" />\n",
              "     <output id=\"result-2887877a-ff9e-437e-9504-eb3445b71d29\">\n",
              "      Upload widget is only available when the cell has been executed in the\n",
              "      current browser session. Please rerun this cell to enable.\n",
              "      </output>\n",
              "      <script>// Copyright 2017 Google LLC\n",
              "//\n",
              "// Licensed under the Apache License, Version 2.0 (the \"License\");\n",
              "// you may not use this file except in compliance with the License.\n",
              "// You may obtain a copy of the License at\n",
              "//\n",
              "//      http://www.apache.org/licenses/LICENSE-2.0\n",
              "//\n",
              "// Unless required by applicable law or agreed to in writing, software\n",
              "// distributed under the License is distributed on an \"AS IS\" BASIS,\n",
              "// WITHOUT WARRANTIES OR CONDITIONS OF ANY KIND, either express or implied.\n",
              "// See the License for the specific language governing permissions and\n",
              "// limitations under the License.\n",
              "\n",
              "/**\n",
              " * @fileoverview Helpers for google.colab Python module.\n",
              " */\n",
              "(function(scope) {\n",
              "function span(text, styleAttributes = {}) {\n",
              "  const element = document.createElement('span');\n",
              "  element.textContent = text;\n",
              "  for (const key of Object.keys(styleAttributes)) {\n",
              "    element.style[key] = styleAttributes[key];\n",
              "  }\n",
              "  return element;\n",
              "}\n",
              "\n",
              "// Max number of bytes which will be uploaded at a time.\n",
              "const MAX_PAYLOAD_SIZE = 100 * 1024;\n",
              "\n",
              "function _uploadFiles(inputId, outputId) {\n",
              "  const steps = uploadFilesStep(inputId, outputId);\n",
              "  const outputElement = document.getElementById(outputId);\n",
              "  // Cache steps on the outputElement to make it available for the next call\n",
              "  // to uploadFilesContinue from Python.\n",
              "  outputElement.steps = steps;\n",
              "\n",
              "  return _uploadFilesContinue(outputId);\n",
              "}\n",
              "\n",
              "// This is roughly an async generator (not supported in the browser yet),\n",
              "// where there are multiple asynchronous steps and the Python side is going\n",
              "// to poll for completion of each step.\n",
              "// This uses a Promise to block the python side on completion of each step,\n",
              "// then passes the result of the previous step as the input to the next step.\n",
              "function _uploadFilesContinue(outputId) {\n",
              "  const outputElement = document.getElementById(outputId);\n",
              "  const steps = outputElement.steps;\n",
              "\n",
              "  const next = steps.next(outputElement.lastPromiseValue);\n",
              "  return Promise.resolve(next.value.promise).then((value) => {\n",
              "    // Cache the last promise value to make it available to the next\n",
              "    // step of the generator.\n",
              "    outputElement.lastPromiseValue = value;\n",
              "    return next.value.response;\n",
              "  });\n",
              "}\n",
              "\n",
              "/**\n",
              " * Generator function which is called between each async step of the upload\n",
              " * process.\n",
              " * @param {string} inputId Element ID of the input file picker element.\n",
              " * @param {string} outputId Element ID of the output display.\n",
              " * @return {!Iterable<!Object>} Iterable of next steps.\n",
              " */\n",
              "function* uploadFilesStep(inputId, outputId) {\n",
              "  const inputElement = document.getElementById(inputId);\n",
              "  inputElement.disabled = false;\n",
              "\n",
              "  const outputElement = document.getElementById(outputId);\n",
              "  outputElement.innerHTML = '';\n",
              "\n",
              "  const pickedPromise = new Promise((resolve) => {\n",
              "    inputElement.addEventListener('change', (e) => {\n",
              "      resolve(e.target.files);\n",
              "    });\n",
              "  });\n",
              "\n",
              "  const cancel = document.createElement('button');\n",
              "  inputElement.parentElement.appendChild(cancel);\n",
              "  cancel.textContent = 'Cancel upload';\n",
              "  const cancelPromise = new Promise((resolve) => {\n",
              "    cancel.onclick = () => {\n",
              "      resolve(null);\n",
              "    };\n",
              "  });\n",
              "\n",
              "  // Wait for the user to pick the files.\n",
              "  const files = yield {\n",
              "    promise: Promise.race([pickedPromise, cancelPromise]),\n",
              "    response: {\n",
              "      action: 'starting',\n",
              "    }\n",
              "  };\n",
              "\n",
              "  cancel.remove();\n",
              "\n",
              "  // Disable the input element since further picks are not allowed.\n",
              "  inputElement.disabled = true;\n",
              "\n",
              "  if (!files) {\n",
              "    return {\n",
              "      response: {\n",
              "        action: 'complete',\n",
              "      }\n",
              "    };\n",
              "  }\n",
              "\n",
              "  for (const file of files) {\n",
              "    const li = document.createElement('li');\n",
              "    li.append(span(file.name, {fontWeight: 'bold'}));\n",
              "    li.append(span(\n",
              "        `(${file.type || 'n/a'}) - ${file.size} bytes, ` +\n",
              "        `last modified: ${\n",
              "            file.lastModifiedDate ? file.lastModifiedDate.toLocaleDateString() :\n",
              "                                    'n/a'} - `));\n",
              "    const percent = span('0% done');\n",
              "    li.appendChild(percent);\n",
              "\n",
              "    outputElement.appendChild(li);\n",
              "\n",
              "    const fileDataPromise = new Promise((resolve) => {\n",
              "      const reader = new FileReader();\n",
              "      reader.onload = (e) => {\n",
              "        resolve(e.target.result);\n",
              "      };\n",
              "      reader.readAsArrayBuffer(file);\n",
              "    });\n",
              "    // Wait for the data to be ready.\n",
              "    let fileData = yield {\n",
              "      promise: fileDataPromise,\n",
              "      response: {\n",
              "        action: 'continue',\n",
              "      }\n",
              "    };\n",
              "\n",
              "    // Use a chunked sending to avoid message size limits. See b/62115660.\n",
              "    let position = 0;\n",
              "    do {\n",
              "      const length = Math.min(fileData.byteLength - position, MAX_PAYLOAD_SIZE);\n",
              "      const chunk = new Uint8Array(fileData, position, length);\n",
              "      position += length;\n",
              "\n",
              "      const base64 = btoa(String.fromCharCode.apply(null, chunk));\n",
              "      yield {\n",
              "        response: {\n",
              "          action: 'append',\n",
              "          file: file.name,\n",
              "          data: base64,\n",
              "        },\n",
              "      };\n",
              "\n",
              "      let percentDone = fileData.byteLength === 0 ?\n",
              "          100 :\n",
              "          Math.round((position / fileData.byteLength) * 100);\n",
              "      percent.textContent = `${percentDone}% done`;\n",
              "\n",
              "    } while (position < fileData.byteLength);\n",
              "  }\n",
              "\n",
              "  // All done.\n",
              "  yield {\n",
              "    response: {\n",
              "      action: 'complete',\n",
              "    }\n",
              "  };\n",
              "}\n",
              "\n",
              "scope.google = scope.google || {};\n",
              "scope.google.colab = scope.google.colab || {};\n",
              "scope.google.colab._files = {\n",
              "  _uploadFiles,\n",
              "  _uploadFilesContinue,\n",
              "};\n",
              "})(self);\n",
              "</script> "
            ]
          },
          "metadata": {}
        },
        {
          "output_type": "stream",
          "name": "stdout",
          "text": [
            "Saving useritemmatrix.csv to useritemmatrix.csv\n"
          ]
        }
      ]
    },
    {
      "cell_type": "code",
      "source": [
        "# ===========================\n",
        "# 1. INSTALL\n",
        "# ===========================\n",
        "!pip install numpy==1.24.4"
      ],
      "metadata": {
        "collapsed": true,
        "id": "aJWiy3FuK92A",
        "outputId": "7a81ddbe-0e3c-491f-ee17-96d2a4ddffd0",
        "colab": {
          "base_uri": "https://localhost:8080/",
          "height": 0
        }
      },
      "execution_count": 5,
      "outputs": [
        {
          "output_type": "stream",
          "name": "stdout",
          "text": [
            "Collecting numpy==1.24.4\n",
            "  Downloading numpy-1.24.4-cp311-cp311-manylinux_2_17_x86_64.manylinux2014_x86_64.whl.metadata (5.6 kB)\n",
            "Downloading numpy-1.24.4-cp311-cp311-manylinux_2_17_x86_64.manylinux2014_x86_64.whl (17.3 MB)\n",
            "\u001b[2K   \u001b[90m━━━━━━━━━━━━━━━━━━━━━━━━━━━━━━━━━━━━━━━━\u001b[0m \u001b[32m17.3/17.3 MB\u001b[0m \u001b[31m133.5 MB/s\u001b[0m eta \u001b[36m0:00:00\u001b[0m\n",
            "\u001b[?25hInstalling collected packages: numpy\n",
            "  Attempting uninstall: numpy\n",
            "    Found existing installation: numpy 2.0.2\n",
            "    Uninstalling numpy-2.0.2:\n",
            "      Successfully uninstalled numpy-2.0.2\n",
            "\u001b[31mERROR: pip's dependency resolver does not currently take into account all the packages that are installed. This behaviour is the source of the following dependency conflicts.\n",
            "jaxlib 0.5.1 requires numpy>=1.25, but you have numpy 1.24.4 which is incompatible.\n",
            "jax 0.5.2 requires numpy>=1.25, but you have numpy 1.24.4 which is incompatible.\n",
            "tensorflow 2.18.0 requires numpy<2.1.0,>=1.26.0, but you have numpy 1.24.4 which is incompatible.\n",
            "blosc2 3.3.2 requires numpy>=1.26, but you have numpy 1.24.4 which is incompatible.\n",
            "treescope 0.1.9 requires numpy>=1.25.2, but you have numpy 1.24.4 which is incompatible.\n",
            "pymc 5.22.0 requires numpy>=1.25.0, but you have numpy 1.24.4 which is incompatible.\n",
            "thinc 8.3.6 requires numpy<3.0.0,>=2.0.0, but you have numpy 1.24.4 which is incompatible.\u001b[0m\u001b[31m\n",
            "\u001b[0mSuccessfully installed numpy-1.24.4\n"
          ]
        },
        {
          "output_type": "display_data",
          "data": {
            "application/vnd.colab-display-data+json": {
              "pip_warning": {
                "packages": [
                  "numpy"
                ]
              },
              "id": "0c6add24db604220ba227330d2bb0402"
            }
          },
          "metadata": {}
        }
      ]
    },
    {
      "cell_type": "code",
      "source": [
        "!pip install -q scikit-surprise"
      ],
      "metadata": {
        "id": "eu2x3ASnSvh7"
      },
      "execution_count": 1,
      "outputs": []
    },
    {
      "cell_type": "code",
      "source": [
        "# ===========================\n",
        "# 2. IMPORTS\n",
        "# ===========================\n",
        "import pandas as pd\n",
        "import numpy as np\n",
        "import random\n",
        "import warnings\n",
        "from collections import Counter\n",
        "from surprise import Dataset, Reader, SVD, accuracy\n",
        "from sklearn.metrics import mean_squared_error"
      ],
      "metadata": {
        "id": "dRweaIEkLgS5"
      },
      "execution_count": 2,
      "outputs": []
    },
    {
      "cell_type": "code",
      "source": [
        "warnings.filterwarnings(\"ignore\")"
      ],
      "metadata": {
        "id": "cgySKwNaTqHx"
      },
      "execution_count": 3,
      "outputs": []
    },
    {
      "cell_type": "code",
      "source": [
        "# ===========================\n",
        "# 3.1 LOAD DATA\n",
        "# ===========================\n",
        "df = pd.read_csv(\"useritemmatrix.csv\")\n",
        "df.rename(columns={'userId': 'user_id', 'itemId': 'item_id', 'interaction': 'rating'}, inplace=True)\n",
        "df['rating'] = df['rating'].astype(int)\n",
        "df = df.sample(n=70000, random_state=123).reset_index(drop=True)\n",
        "df.to_csv(\"sampled_useritemmatrix_70000.csv\", index=False)"
      ],
      "metadata": {
        "id": "jWWuugfIgH_A"
      },
      "execution_count": 120,
      "outputs": []
    },
    {
      "cell_type": "code",
      "source": [
        "# ===========================\n",
        "# 3.2 CLEAN DATA\n",
        "# ===========================\n",
        "# Filter valid users/items (≥0 is meaningless; should be ≥1+ if needed)\n",
        "user_counts = df['user_id'].value_counts()\n",
        "item_counts = df['item_id'].value_counts()\n",
        "valid_user_ids = user_counts[user_counts >= 0].index\n",
        "valid_item_ids = item_counts[item_counts >= 0].index\n",
        "df = df[df['user_id'].isin(valid_user_ids) & df['item_id'].isin(valid_item_ids)]\n",
        "\n",
        "df['user_id'] = df['user_id'].astype(str)\n",
        "df['item_id'] = df['item_id'].astype(str)\n",
        "\n",
        "# ===========================\n",
        "# 4. PARAMETERS\n",
        "# ===========================\n",
        "rating_list = [0, 1]\n",
        "reader = Reader(rating_scale=(0, 1))\n",
        "items_to_be_shown = [2, 4, 6]\n",
        "factors = 100\n",
        "reg_b = 1e-8\n",
        "reg_q = 1e-5"
      ],
      "metadata": {
        "id": "teY3ryYHTt4j"
      },
      "execution_count": 121,
      "outputs": []
    },
    {
      "cell_type": "code",
      "source": [
        "# ===========================\n",
        "# 5. COLD USER SPLIT (filtered to support per-user evaluation)\n",
        "# ===========================\n",
        "\n",
        "# Determine the minimum number of interactions needed (e.g., 100 + 1 = 101)\n",
        "min_required_interactions = max(items_to_be_shown) + 1\n",
        "\n",
        "# Filter users who have at least min_required_interactions\n",
        "user_freq = df['user_id'].value_counts()\n",
        "eligible_cold_users = user_freq[user_freq >= min_required_interactions].index.tolist()\n",
        "\n",
        "# Select top 25% of eligible users to be cold users\n",
        "n_cold = int(0.25 * len(eligible_cold_users))\n",
        "cold_users = eligible_cold_users[:n_cold]\n",
        "\n",
        "# Split the dataset\n",
        "warm_df = df[~df['user_id'].isin(cold_users)]\n",
        "cold_df = df[df['user_id'].isin(cold_users)]\n",
        "\n",
        "# Generate candidate items for strategy scoring\n",
        "item_freq = df['item_id'].value_counts()\n",
        "candidate_items = item_freq[item_freq >= 5].index.tolist()\n",
        "print(f\"Total candidate items: {len(candidate_items)}\")\n",
        "\n",
        "# Debug\n",
        "print(f\"Number of eligible cold users: {len(cold_users)}\")\n",
        "print(f\"Number of warm users: {len(warm_df['user_id'].unique())}\")"
      ],
      "metadata": {
        "colab": {
          "base_uri": "https://localhost:8080/"
        },
        "id": "6ws6Giw_y8CV",
        "outputId": "030f66d1-37b8-476e-99dc-b64a77bd9ee0"
      },
      "execution_count": 108,
      "outputs": [
        {
          "output_type": "stream",
          "name": "stdout",
          "text": [
            "Total candidate items: 849\n",
            "Number of eligible cold users: 68\n",
            "Number of warm users: 41366\n"
          ]
        }
      ]
    },
    {
      "cell_type": "code",
      "source": [
        "# ===========================\n",
        "# 5. PREP FOR STRATEGY-EVALUATION-BASED COLD START\n",
        "# ===========================\n",
        "\n",
        "# Determine the maximum value of k for shown items\n",
        "min_required_interactions = max(items_to_be_shown) + 1\n",
        "\n",
        "# Track user interaction frequency for dynamic cold user filtering later\n",
        "user_freq = df['user_id'].value_counts()\n",
        "\n",
        "# Generate candidate items for strategy scoring\n",
        "item_freq = df['item_id'].value_counts()\n",
        "candidate_items = item_freq[item_freq >= 5].index.tolist()\n",
        "\n",
        "# Pre-split warm_df (used in ranking score computation)\n",
        "warm_df = df[df['user_id'].isin(user_freq[user_freq >= min_required_interactions].index.tolist())]\n",
        "\n",
        "# Debug info\n",
        "print(f\"Max items_to_be_shown: {max(items_to_be_shown)}\")\n",
        "print(f\"Total candidate items: {len(candidate_items)}\")\n",
        "print(f\"Users with ≥{min_required_interactions} ratings: {(user_freq >= min_required_interactions).sum()}\")\n"
      ],
      "metadata": {
        "colab": {
          "base_uri": "https://localhost:8080/"
        },
        "id": "tC2pTzjZDB06",
        "outputId": "29834cc7-64d5-458c-c32e-9181efbf8ee9"
      },
      "execution_count": 122,
      "outputs": [
        {
          "output_type": "stream",
          "name": "stdout",
          "text": [
            "Max items_to_be_shown: 6\n",
            "Total candidate items: 1475\n",
            "Users with ≥7 ratings: 196\n"
          ]
        }
      ]
    },
    {
      "cell_type": "code",
      "source": [
        "# # ===========================\n",
        "# # 6. TRAINING FUNCTIONS\n",
        "# # ===========================\n",
        "def train_svd(data):\n",
        "    data_set = Dataset.load_from_df(data[['user_id', 'item_id', 'rating']], reader).build_full_trainset()\n",
        "    model = SVD(n_factors=factors, reg_bu=reg_b, reg_bi=reg_b, reg_pu=reg_q, reg_qi=reg_q, random_state=123)\n",
        "    model.fit(data_set)\n",
        "    return model\n",
        "\n",
        "def predict_ratings(model, df_test):\n",
        "    return df_test.apply(lambda row: model.predict(row['user_id'], row['item_id']).est, axis=1)\n",
        "\n",
        "def y_change_score(ix, base_df, test_df, pred_orig):\n",
        "    score = 0\n",
        "    for y in rating_list:\n",
        "        df_aug = pd.concat([base_df, pd.DataFrame({'user_id': ['u0'], 'item_id': [ix], 'rating': [y]})])\n",
        "        model = train_svd(df_aug)\n",
        "        pred_new = predict_ratings(model, test_df)\n",
        "        score += np.mean((pred_orig - pred_new) ** 2)\n",
        "    return score / len(rating_list)\n",
        "\n",
        "def error_change_score(ix, base_df, test_df):\n",
        "    score = 0\n",
        "    for y in rating_list:\n",
        "        df_aug = pd.concat([base_df, pd.DataFrame({'user_id': ['u0'], 'item_id': [ix], 'rating': [y]})])\n",
        "        model = train_svd(df_aug)\n",
        "        pred = predict_ratings(model, test_df)\n",
        "        score += np.mean((test_df['rating'] - pred) ** 2)\n",
        "    return score / len(rating_list)\n",
        "\n",
        "def gini(labels):\n",
        "    probs = np.bincount(labels) / len(labels)\n",
        "    return 1 - np.sum(probs**2) if len(probs) > 1 else 0"
      ],
      "metadata": {
        "id": "kM3XqD80XPhr"
      },
      "execution_count": 157,
      "outputs": []
    },
    {
      "cell_type": "code",
      "source": [
        "# ===========================\n",
        "# 7. RUNNING RANKING SCORES\n",
        "# ===========================\n",
        "print(\"Scoring Y-Change...\")\n",
        "train_base = warm_df.sample(frac=0.7, random_state=123)\n",
        "test_base = warm_df.drop(train_base.index)\n",
        "pred_orig = predict_ratings(train_svd(train_base), test_base)\n",
        "\n",
        "y_scores = {ix: y_change_score(ix, train_base, test_base, pred_orig) for ix in candidate_items}\n",
        "y_sorted = sorted(y_scores, key=y_scores.get, reverse=True)"
      ],
      "metadata": {
        "id": "AvPO7DLiXcX1",
        "outputId": "a2273f11-5407-451d-9fa1-0e2db4bbd96a",
        "colab": {
          "base_uri": "https://localhost:8080/"
        }
      },
      "execution_count": 158,
      "outputs": [
        {
          "output_type": "stream",
          "name": "stdout",
          "text": [
            "Scoring Y-Change...\n"
          ]
        }
      ]
    },
    {
      "cell_type": "code",
      "source": [
        "print(\"Scoring Error-Change...\")\n",
        "e_scores = {ix: error_change_score(ix, train_base, test_base) for ix in candidate_items}\n",
        "e_sorted = sorted(e_scores, key=e_scores.get)"
      ],
      "metadata": {
        "id": "ro6ZjhtCYi8a",
        "outputId": "30ca383a-37f8-4ea8-8925-d3520cc46e55",
        "colab": {
          "base_uri": "https://localhost:8080/"
        }
      },
      "execution_count": 159,
      "outputs": [
        {
          "output_type": "stream",
          "name": "stdout",
          "text": [
            "Scoring Error-Change...\n"
          ]
        }
      ]
    },
    {
      "cell_type": "code",
      "source": [
        "print(\"Scoring PopGini...\")\n",
        "popgini_scores = []\n",
        "for ix in candidate_items:\n",
        "    ratings = df[df['item_id'] == ix]['rating'].astype(int)\n",
        "    if len(ratings) > 0:\n",
        "        score = 0.9 * np.log10(len(ratings)) + gini(ratings)\n",
        "        popgini_scores.append((ix, score))\n",
        "popgini_sorted = [x[0] for x in sorted(popgini_scores, key=lambda x: x[1], reverse=True)]"
      ],
      "metadata": {
        "id": "GXzOzTk3YlAK",
        "outputId": "d134d057-85f6-4903-aba4-cca861607577",
        "colab": {
          "base_uri": "https://localhost:8080/"
        }
      },
      "execution_count": 160,
      "outputs": [
        {
          "output_type": "stream",
          "name": "stdout",
          "text": [
            "Scoring PopGini...\n"
          ]
        }
      ]
    },
    {
      "cell_type": "code",
      "source": [
        "# ===========================\n",
        "# 8. FINAL EVALUATION\n",
        "# ===========================\n",
        "def evaluate_strategy(strategy_items, k, max_cold_users=10):\n",
        "    rmse_list = []\n",
        "    used_users = 0\n",
        "\n",
        "    strategy_top_k = set(strategy_items[:k])\n",
        "\n",
        "    # Use a reduced number of top active users (faster filtering)\n",
        "    user_freq = df['user_id'].value_counts()\n",
        "    sorted_users = user_freq.sort_values(ascending=False).head(200).index.tolist()  # limit scanning pool\n",
        "\n",
        "    # Filter users with sufficient overlap and interactions\n",
        "    cold_users = []\n",
        "    for user in sorted_users:\n",
        "        user_data = df[df['user_id'] == user]\n",
        "        user_items = set(user_data['item_id'])\n",
        "\n",
        "        if len(user_items) < (k + 1):\n",
        "            continue\n",
        "        if len(user_items & strategy_top_k) == 0:\n",
        "            continue\n",
        "\n",
        "        cold_users.append(user)\n",
        "        if len(cold_users) >= max_cold_users:\n",
        "            break\n",
        "\n",
        "    # Evaluate\n",
        "    for user in cold_users:\n",
        "        user_data = df[df['user_id'] == user]\n",
        "        user_items = set(user_data['item_id'])\n",
        "        shown_items = [item for item in strategy_items if item in user_items][:k]\n",
        "        if len(shown_items) == 0:\n",
        "            continue\n",
        "\n",
        "        train_df = pd.concat([\n",
        "            df[df['user_id'] != user],\n",
        "            user_data[user_data['item_id'].isin(shown_items)]\n",
        "        ])\n",
        "\n",
        "        test_df = user_data[~user_data['item_id'].isin(shown_items)]\n",
        "        if test_df.empty:\n",
        "            continue\n",
        "\n",
        "        model = train_svd(train_df)\n",
        "        test_set = list(test_df[['user_id', 'item_id', 'rating']].itertuples(index=False, name=None))\n",
        "        preds = model.test(test_set)\n",
        "\n",
        "        rmse = accuracy.rmse(preds, verbose=False)\n",
        "        rmse_list.append(rmse)\n",
        "        used_users += 1\n",
        "\n",
        "    print(f\"Used {used_users}/{max_cold_users} cold users for k={k}\")\n",
        "    return np.mean(rmse_list) if rmse_list else float('nan')\n"
      ],
      "metadata": {
        "id": "A8QPlw9dOfaA"
      },
      "execution_count": 142,
      "outputs": []
    },
    {
      "cell_type": "code",
      "source": [
        "# ===========================\n",
        "# 9. REPORT RESULTS (Split by Strategy)\n",
        "# ===========================\n",
        "\n",
        "# --- 1. PopGini ---\n",
        "rmse_popgini = []\n",
        "print(\"\\n======= RMSE Results PopGini =======\")\n",
        "for k in items_to_be_shown:\n",
        "    rmse = evaluate_strategy(popgini_sorted, k)\n",
        "    rmse_popgini.append(rmse)\n",
        "    print(f\"PopGini      @ {k:3d} items: RMSE = {rmse:.4f}\")"
      ],
      "metadata": {
        "id": "UOBEfnmkYv6n",
        "outputId": "f68255c3-2d62-41bb-cf64-42bc0c739f72",
        "colab": {
          "base_uri": "https://localhost:8080/"
        }
      },
      "execution_count": 129,
      "outputs": [
        {
          "output_type": "stream",
          "name": "stdout",
          "text": [
            "\n",
            "======= RMSE Results PopGini =======\n",
            "Used 10/10 cold users for k=2\n",
            "PopGini      @   2 items: RMSE = 0.4712\n",
            "Used 10/10 cold users for k=4\n",
            "PopGini      @   4 items: RMSE = 0.4578\n",
            "Used 10/10 cold users for k=6\n",
            "PopGini      @   6 items: RMSE = 0.5211\n"
          ]
        }
      ]
    },
    {
      "cell_type": "code",
      "source": [
        "# --- 2. Y-Change ---\n",
        "rmse_ychange = []\n",
        "print(\"\\n======= RMSE Results Y-Change =======\")\n",
        "for k in items_to_be_shown:\n",
        "    rmse = evaluate_strategy(y_sorted, k)\n",
        "    rmse_ychange.append(rmse)\n",
        "    print(f\"Y-Change     @ {k:3d} items: RMSE = {rmse:.4f}\")"
      ],
      "metadata": {
        "colab": {
          "base_uri": "https://localhost:8080/"
        },
        "id": "QcfV2ZDJPdh5",
        "outputId": "22a4f8be-4b90-410c-ab23-03c87b657f19"
      },
      "execution_count": 130,
      "outputs": [
        {
          "output_type": "stream",
          "name": "stdout",
          "text": [
            "\n",
            "======= RMSE Results Y-Change =======\n",
            "Used 3/10 cold users for k=2\n",
            "Y-Change     @   2 items: RMSE = 0.5454\n",
            "Used 5/10 cold users for k=4\n",
            "Y-Change     @   4 items: RMSE = 0.4933\n",
            "Used 7/10 cold users for k=6\n",
            "Y-Change     @   6 items: RMSE = 0.4974\n"
          ]
        }
      ]
    },
    {
      "cell_type": "code",
      "source": [
        "# --- 3. Error-Change ---\n",
        "rmse_errorchange = []\n",
        "print(\"\\n======= RMSE Results Error-Change =======\")\n",
        "for k in items_to_be_shown:\n",
        "    rmse = evaluate_strategy(e_sorted, k)\n",
        "    rmse_errorchange.append(rmse)\n",
        "    print(f\"Error-Change @ {k:3d} items: RMSE = {rmse:.4f}\")"
      ],
      "metadata": {
        "colab": {
          "base_uri": "https://localhost:8080/"
        },
        "id": "gufR7salPf7c",
        "outputId": "4114d71c-275c-4d14-dd21-d8b598c18e99"
      },
      "execution_count": 131,
      "outputs": [
        {
          "output_type": "stream",
          "name": "stdout",
          "text": [
            "\n",
            "======= RMSE Results Error-Change =======\n",
            "Used 2/10 cold users for k=2\n",
            "Error-Change @   2 items: RMSE = 0.3391\n",
            "Used 4/10 cold users for k=4\n",
            "Error-Change @   4 items: RMSE = 0.4078\n",
            "Used 6/10 cold users for k=6\n",
            "Error-Change @   6 items: RMSE = 0.4736\n"
          ]
        }
      ]
    },
    {
      "cell_type": "code",
      "source": [
        "# --- 4. Random (Averaged) ---\n",
        "rmse_random = []\n",
        "print(\"\\n======= RMSE Results Random (Averaged) =======\")\n",
        "def average_random_rmse(k, trials=10):\n",
        "    rmses = []\n",
        "    for _ in range(trials):\n",
        "        random_items = random.sample(candidate_items, 1000)\n",
        "        rmse = evaluate_strategy(random_items, k)\n",
        "        rmses.append(rmse)\n",
        "    return np.nanmean(rmses)\n",
        "\n",
        "for k in items_to_be_shown:\n",
        "    rmse = average_random_rmse(k, trials=10)\n",
        "    rmse_random.append(rmse)\n",
        "    print(f\"Random (avg) @ {k:3d} items: RMSE = {rmse:.4f}\")"
      ],
      "metadata": {
        "colab": {
          "base_uri": "https://localhost:8080/"
        },
        "id": "Y0wUJNMLnAOi",
        "outputId": "31b5132c-fe4c-4d7e-90f2-025dc53b26c8"
      },
      "execution_count": 136,
      "outputs": [
        {
          "output_type": "stream",
          "name": "stdout",
          "text": [
            "\n",
            "======= RMSE Results Random (Averaged) =======\n",
            "Used 0/10 cold users for k=2\n",
            "Used 1/10 cold users for k=2\n",
            "Used 1/10 cold users for k=2\n",
            "Used 0/10 cold users for k=2\n",
            "Used 1/10 cold users for k=2\n",
            "Used 0/10 cold users for k=2\n",
            "Used 0/10 cold users for k=2\n",
            "Used 0/10 cold users for k=2\n",
            "Used 0/10 cold users for k=2\n",
            "Used 0/10 cold users for k=2\n",
            "Random (avg) @   2 items: RMSE = 0.4638\n",
            "Used 1/10 cold users for k=4\n",
            "Used 1/10 cold users for k=4\n",
            "Used 1/10 cold users for k=4\n",
            "Used 1/10 cold users for k=4\n",
            "Used 2/10 cold users for k=4\n",
            "Used 1/10 cold users for k=4\n",
            "Used 0/10 cold users for k=4\n",
            "Used 0/10 cold users for k=4\n",
            "Used 1/10 cold users for k=4\n",
            "Used 0/10 cold users for k=4\n",
            "Random (avg) @   4 items: RMSE = 0.4889\n",
            "Used 1/10 cold users for k=6\n",
            "Used 1/10 cold users for k=6\n",
            "Used 2/10 cold users for k=6\n",
            "Used 2/10 cold users for k=6\n",
            "Used 1/10 cold users for k=6\n",
            "Used 1/10 cold users for k=6\n",
            "Used 1/10 cold users for k=6\n",
            "Used 1/10 cold users for k=6\n",
            "Used 0/10 cold users for k=6\n",
            "Used 1/10 cold users for k=6\n",
            "Random (avg) @   6 items: RMSE = 0.5343\n"
          ]
        }
      ]
    },
    {
      "cell_type": "code",
      "source": [
        "# ===========================\n",
        "# 10. RUNNING HYBRID RANKING SCORES\n",
        "# ===========================\n",
        "def hybrid_change_score(ix, base_df, test_df, pred_orig):\n",
        "    score_y = 0\n",
        "    score_e = 0\n",
        "    for y in rating_list:\n",
        "        df_aug = pd.concat([base_df, pd.DataFrame({'user_id': ['u0'], 'item_id': [ix], 'rating': [y]})])\n",
        "        model = train_svd(df_aug)\n",
        "        pred_new = predict_ratings(model, test_df)\n",
        "        score_y += np.mean((pred_orig - pred_new) ** 2)\n",
        "        score_e += np.mean((test_df['rating'] - pred_new) ** 2)\n",
        "    return (score_y / len(rating_list), score_e / len(rating_list))\n",
        "\n",
        "print(\"Scoring Hybrid (Y-Change + Error-Change)...\")\n",
        "train_base = warm_df.sample(frac=0.7, random_state=123)\n",
        "test_base = warm_df.drop(train_base.index)\n",
        "pred_orig = predict_ratings(train_svd(train_base), test_base)\n",
        "\n",
        "hybrid_y = {}\n",
        "hybrid_e = {}\n",
        "for ix in candidate_items:\n",
        "    y_val, e_val = hybrid_change_score(ix, train_base, test_base, pred_orig)\n",
        "    hybrid_y[ix] = y_val\n",
        "    hybrid_e[ix] = e_val\n",
        "\n",
        "# Combine the two scores without normalization or weights\n",
        "hybrid_scores = {ix: hybrid_y[ix] + hybrid_e[ix] for ix in candidate_items}\n",
        "hybrid_sorted = sorted(hybrid_scores, key=hybrid_scores.get, reverse=True)\n"
      ],
      "metadata": {
        "colab": {
          "base_uri": "https://localhost:8080/"
        },
        "id": "kg9wqj9ol905",
        "outputId": "c5d91161-5d40-48e3-86a6-30228750f55a"
      },
      "execution_count": 167,
      "outputs": [
        {
          "output_type": "stream",
          "name": "stdout",
          "text": [
            "Scoring Hybrid (Y-Change + Error-Change)...\n"
          ]
        }
      ]
    },
    {
      "cell_type": "code",
      "source": [
        "# ===========================\n",
        "# 10. REPORT RESULTS: Hybrid Strategy Evaluation\n",
        "# ===========================\n",
        "rmse_hybrid = []\n",
        "print(\"\\n======= RMSE Results Hybrid Strategy =======\")\n",
        "for k in items_to_be_shown:\n",
        "    rmse = evaluate_strategy(hybrid_sorted, k)\n",
        "    rmse_hybrid.append(rmse)\n",
        "    print(f\"Hybrid       @ {k:3d} items: RMSE = {rmse:.4f}\")"
      ],
      "metadata": {
        "colab": {
          "base_uri": "https://localhost:8080/"
        },
        "id": "6cUOEm9zmPKO",
        "outputId": "11e42a3d-9256-4c07-a8d5-544015d02203"
      },
      "execution_count": 168,
      "outputs": [
        {
          "output_type": "stream",
          "name": "stdout",
          "text": [
            "\n",
            "======= RMSE Results Hybrid Strategy =======\n",
            "Used 2/10 cold users for k=2\n",
            "Hybrid       @   2 items: RMSE = 0.4752\n",
            "Used 4/10 cold users for k=4\n",
            "Hybrid       @   4 items: RMSE = 0.4883\n",
            "Used 6/10 cold users for k=6\n",
            "Hybrid       @   6 items: RMSE = 0.4713\n"
          ]
        }
      ]
    },
    {
      "cell_type": "code",
      "source": [
        "from sklearn.metrics import jaccard_score\n",
        "\n",
        "def jaccard_index(strategy_items, k, threshold=1):\n",
        "    \"\"\"\n",
        "    Evaluates a strategy using the Jaccard Index.\n",
        "    Assumes binary relevance (rating >= threshold is relevant).\n",
        "    \"\"\"\n",
        "    top_items = strategy_items[:k]\n",
        "    jaccard_list = []\n",
        "\n",
        "    for user in df['user_id'].unique():\n",
        "        user_data = df[df['user_id'] == user]\n",
        "        if len(user_data) < (k + 1):\n",
        "            continue\n",
        "\n",
        "        actual_items = set(user_data[user_data['rating'] >= threshold]['item_id'])\n",
        "        if not actual_items:\n",
        "            continue\n",
        "\n",
        "        recommended = set(top_items)\n",
        "        intersection = len(recommended & actual_items)\n",
        "        union = len(recommended | actual_items)\n",
        "\n",
        "        if union == 0:\n",
        "            continue\n",
        "\n",
        "        jaccard_list.append(intersection / union)\n",
        "\n",
        "    return np.mean(jaccard_list) if jaccard_list else float('nan')\n"
      ],
      "metadata": {
        "id": "2hmT3UyQVJkb"
      },
      "execution_count": 169,
      "outputs": []
    },
    {
      "cell_type": "code",
      "source": [
        "strategies = {\n",
        "    \"PopGini\": popgini_sorted,\n",
        "    \"Y-Change\": y_sorted,\n",
        "    \"Error-Change\": e_sorted,\n",
        "    \"Hybrid\": hybrid_sorted\n",
        "}"
      ],
      "metadata": {
        "id": "NZshV63AVcDG"
      },
      "execution_count": 170,
      "outputs": []
    },
    {
      "cell_type": "code",
      "source": [
        "print(\"\\n===== Jaccard Index Results =====\")\n",
        "for name, strategy_items in strategies.items():\n",
        "    for k in items_to_be_shown:\n",
        "        jac = jaccard_index(strategy_items, k)\n",
        "        print(f\"{name:12s} @ {k:3d} items: Jaccard = {jac:.4f}\")"
      ],
      "metadata": {
        "colab": {
          "base_uri": "https://localhost:8080/"
        },
        "id": "CKrtgEoHVKsT",
        "outputId": "c2c263f9-3ad4-4e51-a336-eeac6399a4c2"
      },
      "execution_count": 171,
      "outputs": [
        {
          "output_type": "stream",
          "name": "stdout",
          "text": [
            "\n",
            "===== Jaccard Index Results =====\n",
            "PopGini      @   2 items: Jaccard = 0.0131\n",
            "PopGini      @   4 items: Jaccard = 0.0070\n",
            "PopGini      @   6 items: Jaccard = 0.0059\n",
            "Y-Change     @   2 items: Jaccard = 0.0003\n",
            "Y-Change     @   4 items: Jaccard = 0.0011\n",
            "Y-Change     @   6 items: Jaccard = 0.0026\n",
            "Error-Change @   2 items: Jaccard = 0.0000\n",
            "Error-Change @   4 items: Jaccard = 0.0002\n",
            "Error-Change @   6 items: Jaccard = 0.0005\n",
            "Hybrid       @   2 items: Jaccard = 0.0002\n",
            "Hybrid       @   4 items: Jaccard = 0.0012\n",
            "Hybrid       @   6 items: Jaccard = 0.0022\n"
          ]
        }
      ]
    },
    {
      "cell_type": "code",
      "source": [
        "# Extend the plotting function to include Hybrid strategy\n",
        "\n",
        "def plot_rmse_bars_with_hybrid(items_to_be_shown, rmse_ychange, rmse_errorchange, rmse_random, rmse_hybrid, title=\"RMSE Comparison\"):\n",
        "    strategies = ['Y-Change', 'Error-Change', 'Random', 'Hybrid']\n",
        "    x = np.arange(len(items_to_be_shown))  # k values (e.g., 2, 4, 6)\n",
        "    width = 0.18  # smaller width to fit more bars\n",
        "\n",
        "    fig, ax = plt.subplots(figsize=(12, 6))\n",
        "\n",
        "    # Bar positions for each strategy\n",
        "    ax.bar(x - 1.5*width, rmse_ychange, width, label='Y-Change')\n",
        "    ax.bar(x - 0.5*width, rmse_errorchange, width, label='Error-Change')\n",
        "    ax.bar(x + 0.5*width, rmse_random, width, label='Random')\n",
        "    ax.bar(x + 1.5*width, rmse_hybrid, width, label='Hybrid')\n",
        "\n",
        "    # Add labels and formatting\n",
        "    ax.set_xlabel(\"Number of Items Shown (k)\")\n",
        "    ax.set_ylabel(\"RMSE\")\n",
        "    ax.set_title(title)\n",
        "    ax.set_xticks(x)\n",
        "    ax.set_xticklabels(items_to_be_shown)\n",
        "    ax.legend()\n",
        "    ax.grid(True, linestyle='--', alpha=0.6)\n",
        "\n",
        "    plt.tight_layout()\n",
        "    plt.show()\n",
        "\n",
        "# Example usage with dummy values for hybrid — replace with actual values\n",
        "rmse_hybrid = [0.4012, 0.3895, 0.4551]\n",
        "\n",
        "plot_rmse_bars_with_hybrid(items_to_be_shown, rmse_ychange, rmse_errorchange, rmse_random, rmse_hybrid)\n"
      ],
      "metadata": {
        "colab": {
          "base_uri": "https://localhost:8080/",
          "height": 607
        },
        "id": "aLUOqMiaqvRW",
        "outputId": "6cc0bd1d-0d9d-47dc-c043-5534c67c89fd"
      },
      "execution_count": 175,
      "outputs": [
        {
          "output_type": "display_data",
          "data": {
            "text/plain": [
              "<Figure size 1200x600 with 1 Axes>"
            ],
            "image/png": "[encoded data removed]"
          },
          "metadata": {}
        }
      ]
    }
  ],
  "metadata": {
    "colab": {
      "machine_shape": "hm",
      "provenance": []
    },
    "kernelspec": {
      "display_name": "Python 3",
      "name": "python3"
    },
    "language_info": {
      "name": "python"
    }
  },
  "nbformat": 4,
  "nbformat_minor": 0
}